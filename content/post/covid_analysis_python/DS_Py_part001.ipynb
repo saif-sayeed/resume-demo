{
 "cells": [
  {
   "cell_type": "markdown",
   "id": "27d7dc69",
   "metadata": {},
   "source": [
    "# Welcome to the Notebook"
   ]
  },
  {
   "cell_type": "markdown",
   "id": "01fd4dc8",
   "metadata": {},
   "source": [
    "### Importing modules"
   ]
  },
  {
   "cell_type": "markdown",
   "id": "1cfdad50",
   "metadata": {},
   "source": [
    "### Task 1"
   ]
  },
  {
   "cell_type": "code",
   "execution_count": 1,
   "id": "812686fe",
   "metadata": {},
   "outputs": [
    {
     "name": "stdout",
     "output_type": "stream",
     "text": [
      "modules are imported\n"
     ]
    }
   ],
   "source": [
    "import pandas as pd\n",
    "import numpy as np\n",
    "import plotly.express as px\n",
    "import matplotlib.pyplot as plt \n",
    "print('modules are imported')"
   ]
  },
  {
   "cell_type": "markdown",
   "id": "9e2ccfe5",
   "metadata": {},
   "source": [
    "### Task 1.1: \n",
    "#### Loading the Dataset"
   ]
  },
  {
   "cell_type": "code",
   "execution_count": 2,
   "id": "e4218aee",
   "metadata": {},
   "outputs": [],
   "source": [
    "dataset_url = 'https://raw.githubusercontent.com/datasets/covid-19/main/data/countries-aggregated.csv'\n",
    "fname = 'data/countries-aggregated.csv'\n",
    "df = pd.read_csv(fname)"
   ]
  },
  {
   "cell_type": "code",
   "execution_count": 3,
   "id": "84e71f6f",
   "metadata": {},
   "outputs": [],
   "source": [
    "df_31May21 = df[df.Date == '2020-05-31']"
   ]
  },
  {
   "cell_type": "code",
   "execution_count": 4,
   "id": "1765f6b9",
   "metadata": {},
   "outputs": [
    {
     "data": {
      "text/html": [
       "<div>\n",
       "<style scoped>\n",
       "    .dataframe tbody tr th:only-of-type {\n",
       "        vertical-align: middle;\n",
       "    }\n",
       "\n",
       "    .dataframe tbody tr th {\n",
       "        vertical-align: top;\n",
       "    }\n",
       "\n",
       "    .dataframe thead th {\n",
       "        text-align: right;\n",
       "    }\n",
       "</style>\n",
       "<table border=\"1\" class=\"dataframe\">\n",
       "  <thead>\n",
       "    <tr style=\"text-align: right;\">\n",
       "      <th></th>\n",
       "      <th>Date</th>\n",
       "      <th>Country</th>\n",
       "      <th>Confirmed</th>\n",
       "      <th>Recovered</th>\n",
       "      <th>Deaths</th>\n",
       "    </tr>\n",
       "  </thead>\n",
       "  <tbody>\n",
       "    <tr>\n",
       "      <th>130</th>\n",
       "      <td>2020-05-31</td>\n",
       "      <td>Afghanistan</td>\n",
       "      <td>15208</td>\n",
       "      <td>1328</td>\n",
       "      <td>258</td>\n",
       "    </tr>\n",
       "    <tr>\n",
       "      <th>658</th>\n",
       "      <td>2020-05-31</td>\n",
       "      <td>Albania</td>\n",
       "      <td>1137</td>\n",
       "      <td>872</td>\n",
       "      <td>33</td>\n",
       "    </tr>\n",
       "    <tr>\n",
       "      <th>1186</th>\n",
       "      <td>2020-05-31</td>\n",
       "      <td>Algeria</td>\n",
       "      <td>9394</td>\n",
       "      <td>5748</td>\n",
       "      <td>653</td>\n",
       "    </tr>\n",
       "    <tr>\n",
       "      <th>1714</th>\n",
       "      <td>2020-05-31</td>\n",
       "      <td>Andorra</td>\n",
       "      <td>764</td>\n",
       "      <td>694</td>\n",
       "      <td>51</td>\n",
       "    </tr>\n",
       "    <tr>\n",
       "      <th>2242</th>\n",
       "      <td>2020-05-31</td>\n",
       "      <td>Angola</td>\n",
       "      <td>86</td>\n",
       "      <td>18</td>\n",
       "      <td>4</td>\n",
       "    </tr>\n",
       "  </tbody>\n",
       "</table>\n",
       "</div>"
      ],
      "text/plain": [
       "            Date      Country  Confirmed  Recovered  Deaths\n",
       "130   2020-05-31  Afghanistan      15208       1328     258\n",
       "658   2020-05-31      Albania       1137        872      33\n",
       "1186  2020-05-31      Algeria       9394       5748     653\n",
       "1714  2020-05-31      Andorra        764        694      51\n",
       "2242  2020-05-31       Angola         86         18       4"
      ]
     },
     "execution_count": 4,
     "metadata": {},
     "output_type": "execute_result"
    }
   ],
   "source": [
    "df_31May21.head()"
   ]
  },
  {
   "cell_type": "markdown",
   "id": "d9453e7a",
   "metadata": {},
   "source": [
    "### Task 1.2:\n",
    "#### let's check the dataframe "
   ]
  },
  {
   "cell_type": "code",
   "execution_count": 5,
   "id": "324f4d88",
   "metadata": {},
   "outputs": [
    {
     "data": {
      "text/html": [
       "<div>\n",
       "<style scoped>\n",
       "    .dataframe tbody tr th:only-of-type {\n",
       "        vertical-align: middle;\n",
       "    }\n",
       "\n",
       "    .dataframe tbody tr th {\n",
       "        vertical-align: top;\n",
       "    }\n",
       "\n",
       "    .dataframe thead th {\n",
       "        text-align: right;\n",
       "    }\n",
       "</style>\n",
       "<table border=\"1\" class=\"dataframe\">\n",
       "  <thead>\n",
       "    <tr style=\"text-align: right;\">\n",
       "      <th></th>\n",
       "      <th>Date</th>\n",
       "      <th>Country</th>\n",
       "      <th>Confirmed</th>\n",
       "      <th>Recovered</th>\n",
       "      <th>Deaths</th>\n",
       "    </tr>\n",
       "  </thead>\n",
       "  <tbody>\n",
       "    <tr>\n",
       "      <th>130</th>\n",
       "      <td>2020-05-31</td>\n",
       "      <td>Afghanistan</td>\n",
       "      <td>15208</td>\n",
       "      <td>1328</td>\n",
       "      <td>258</td>\n",
       "    </tr>\n",
       "    <tr>\n",
       "      <th>658</th>\n",
       "      <td>2020-05-31</td>\n",
       "      <td>Albania</td>\n",
       "      <td>1137</td>\n",
       "      <td>872</td>\n",
       "      <td>33</td>\n",
       "    </tr>\n",
       "    <tr>\n",
       "      <th>1186</th>\n",
       "      <td>2020-05-31</td>\n",
       "      <td>Algeria</td>\n",
       "      <td>9394</td>\n",
       "      <td>5748</td>\n",
       "      <td>653</td>\n",
       "    </tr>\n",
       "    <tr>\n",
       "      <th>1714</th>\n",
       "      <td>2020-05-31</td>\n",
       "      <td>Andorra</td>\n",
       "      <td>764</td>\n",
       "      <td>694</td>\n",
       "      <td>51</td>\n",
       "    </tr>\n",
       "    <tr>\n",
       "      <th>2242</th>\n",
       "      <td>2020-05-31</td>\n",
       "      <td>Angola</td>\n",
       "      <td>86</td>\n",
       "      <td>18</td>\n",
       "      <td>4</td>\n",
       "    </tr>\n",
       "  </tbody>\n",
       "</table>\n",
       "</div>"
      ],
      "text/plain": [
       "            Date      Country  Confirmed  Recovered  Deaths\n",
       "130   2020-05-31  Afghanistan      15208       1328     258\n",
       "658   2020-05-31      Albania       1137        872      33\n",
       "1186  2020-05-31      Algeria       9394       5748     653\n",
       "1714  2020-05-31      Andorra        764        694      51\n",
       "2242  2020-05-31       Angola         86         18       4"
      ]
     },
     "execution_count": 5,
     "metadata": {},
     "output_type": "execute_result"
    }
   ],
   "source": [
    "df_31May21.head()"
   ]
  },
  {
   "cell_type": "code",
   "execution_count": 6,
   "id": "704c592e",
   "metadata": {},
   "outputs": [
    {
     "data": {
      "text/html": [
       "<div>\n",
       "<style scoped>\n",
       "    .dataframe tbody tr th:only-of-type {\n",
       "        vertical-align: middle;\n",
       "    }\n",
       "\n",
       "    .dataframe tbody tr th {\n",
       "        vertical-align: top;\n",
       "    }\n",
       "\n",
       "    .dataframe thead th {\n",
       "        text-align: right;\n",
       "    }\n",
       "</style>\n",
       "<table border=\"1\" class=\"dataframe\">\n",
       "  <thead>\n",
       "    <tr style=\"text-align: right;\">\n",
       "      <th></th>\n",
       "      <th>Date</th>\n",
       "      <th>Country</th>\n",
       "      <th>Confirmed</th>\n",
       "      <th>Recovered</th>\n",
       "      <th>Deaths</th>\n",
       "    </tr>\n",
       "  </thead>\n",
       "  <tbody>\n",
       "    <tr>\n",
       "      <th>100450</th>\n",
       "      <td>2020-05-31</td>\n",
       "      <td>Vietnam</td>\n",
       "      <td>328</td>\n",
       "      <td>279</td>\n",
       "      <td>0</td>\n",
       "    </tr>\n",
       "    <tr>\n",
       "      <th>100978</th>\n",
       "      <td>2020-05-31</td>\n",
       "      <td>West Bank and Gaza</td>\n",
       "      <td>448</td>\n",
       "      <td>372</td>\n",
       "      <td>3</td>\n",
       "    </tr>\n",
       "    <tr>\n",
       "      <th>101506</th>\n",
       "      <td>2020-05-31</td>\n",
       "      <td>Yemen</td>\n",
       "      <td>323</td>\n",
       "      <td>14</td>\n",
       "      <td>80</td>\n",
       "    </tr>\n",
       "    <tr>\n",
       "      <th>102034</th>\n",
       "      <td>2020-05-31</td>\n",
       "      <td>Zambia</td>\n",
       "      <td>1057</td>\n",
       "      <td>779</td>\n",
       "      <td>7</td>\n",
       "    </tr>\n",
       "    <tr>\n",
       "      <th>102562</th>\n",
       "      <td>2020-05-31</td>\n",
       "      <td>Zimbabwe</td>\n",
       "      <td>178</td>\n",
       "      <td>29</td>\n",
       "      <td>4</td>\n",
       "    </tr>\n",
       "  </tbody>\n",
       "</table>\n",
       "</div>"
      ],
      "text/plain": [
       "              Date             Country  Confirmed  Recovered  Deaths\n",
       "100450  2020-05-31             Vietnam        328        279       0\n",
       "100978  2020-05-31  West Bank and Gaza        448        372       3\n",
       "101506  2020-05-31               Yemen        323         14      80\n",
       "102034  2020-05-31              Zambia       1057        779       7\n",
       "102562  2020-05-31            Zimbabwe        178         29       4"
      ]
     },
     "execution_count": 6,
     "metadata": {},
     "output_type": "execute_result"
    }
   ],
   "source": [
    "df_31May21.tail()"
   ]
  },
  {
   "cell_type": "markdown",
   "id": "4074b71c",
   "metadata": {},
   "source": [
    "#### let's check the shape of the dataframe "
   ]
  },
  {
   "cell_type": "code",
   "execution_count": 7,
   "id": "15629920",
   "metadata": {},
   "outputs": [
    {
     "data": {
      "text/plain": [
       "(195, 5)"
      ]
     },
     "execution_count": 7,
     "metadata": {},
     "output_type": "execute_result"
    }
   ],
   "source": [
    "df_31May21.shape"
   ]
  },
  {
   "cell_type": "code",
   "execution_count": 8,
   "id": "5f21cd0e",
   "metadata": {},
   "outputs": [
    {
     "data": {
      "text/plain": [
       "(102960, 5)"
      ]
     },
     "execution_count": 8,
     "metadata": {},
     "output_type": "execute_result"
    }
   ],
   "source": [
    "df.shape"
   ]
  },
  {
   "cell_type": "markdown",
   "id": "5ac1fb3d",
   "metadata": {},
   "source": [
    "### Task 2.1 :\n",
    "#### let's do some preprocessing "
   ]
  },
  {
   "cell_type": "code",
   "execution_count": 9,
   "id": "c1f9c46b",
   "metadata": {},
   "outputs": [],
   "source": [
    "dfconf=df[df.Confirmed>0]"
   ]
  },
  {
   "cell_type": "code",
   "execution_count": 10,
   "id": "033d8b4c",
   "metadata": {},
   "outputs": [
    {
     "data": {
      "text/html": [
       "<div>\n",
       "<style scoped>\n",
       "    .dataframe tbody tr th:only-of-type {\n",
       "        vertical-align: middle;\n",
       "    }\n",
       "\n",
       "    .dataframe tbody tr th {\n",
       "        vertical-align: top;\n",
       "    }\n",
       "\n",
       "    .dataframe thead th {\n",
       "        text-align: right;\n",
       "    }\n",
       "</style>\n",
       "<table border=\"1\" class=\"dataframe\">\n",
       "  <thead>\n",
       "    <tr style=\"text-align: right;\">\n",
       "      <th></th>\n",
       "      <th>Date</th>\n",
       "      <th>Country</th>\n",
       "      <th>Confirmed</th>\n",
       "      <th>Recovered</th>\n",
       "      <th>Deaths</th>\n",
       "    </tr>\n",
       "  </thead>\n",
       "  <tbody>\n",
       "    <tr>\n",
       "      <th>33</th>\n",
       "      <td>2020-02-24</td>\n",
       "      <td>Afghanistan</td>\n",
       "      <td>1</td>\n",
       "      <td>0</td>\n",
       "      <td>0</td>\n",
       "    </tr>\n",
       "    <tr>\n",
       "      <th>34</th>\n",
       "      <td>2020-02-25</td>\n",
       "      <td>Afghanistan</td>\n",
       "      <td>1</td>\n",
       "      <td>0</td>\n",
       "      <td>0</td>\n",
       "    </tr>\n",
       "    <tr>\n",
       "      <th>35</th>\n",
       "      <td>2020-02-26</td>\n",
       "      <td>Afghanistan</td>\n",
       "      <td>1</td>\n",
       "      <td>0</td>\n",
       "      <td>0</td>\n",
       "    </tr>\n",
       "    <tr>\n",
       "      <th>36</th>\n",
       "      <td>2020-02-27</td>\n",
       "      <td>Afghanistan</td>\n",
       "      <td>1</td>\n",
       "      <td>0</td>\n",
       "      <td>0</td>\n",
       "    </tr>\n",
       "    <tr>\n",
       "      <th>37</th>\n",
       "      <td>2020-02-28</td>\n",
       "      <td>Afghanistan</td>\n",
       "      <td>1</td>\n",
       "      <td>0</td>\n",
       "      <td>0</td>\n",
       "    </tr>\n",
       "  </tbody>\n",
       "</table>\n",
       "</div>"
      ],
      "text/plain": [
       "          Date      Country  Confirmed  Recovered  Deaths\n",
       "33  2020-02-24  Afghanistan          1          0       0\n",
       "34  2020-02-25  Afghanistan          1          0       0\n",
       "35  2020-02-26  Afghanistan          1          0       0\n",
       "36  2020-02-27  Afghanistan          1          0       0\n",
       "37  2020-02-28  Afghanistan          1          0       0"
      ]
     },
     "execution_count": 10,
     "metadata": {},
     "output_type": "execute_result"
    }
   ],
   "source": [
    "dfconf.head()"
   ]
  },
  {
   "cell_type": "code",
   "execution_count": 11,
   "id": "bdfe12a7",
   "metadata": {},
   "outputs": [
    {
     "data": {
      "text/plain": [
       "(91970, 5)"
      ]
     },
     "execution_count": 11,
     "metadata": {},
     "output_type": "execute_result"
    }
   ],
   "source": [
    "dfconf.shape"
   ]
  },
  {
   "cell_type": "markdown",
   "id": "98f99bc0",
   "metadata": {},
   "source": [
    "#### let's see data related to a country for example Italy \n"
   ]
  },
  {
   "cell_type": "code",
   "execution_count": 12,
   "id": "99c416df",
   "metadata": {},
   "outputs": [
    {
     "data": {
      "text/html": [
       "<div>\n",
       "<style scoped>\n",
       "    .dataframe tbody tr th:only-of-type {\n",
       "        vertical-align: middle;\n",
       "    }\n",
       "\n",
       "    .dataframe tbody tr th {\n",
       "        vertical-align: top;\n",
       "    }\n",
       "\n",
       "    .dataframe thead th {\n",
       "        text-align: right;\n",
       "    }\n",
       "</style>\n",
       "<table border=\"1\" class=\"dataframe\">\n",
       "  <thead>\n",
       "    <tr style=\"text-align: right;\">\n",
       "      <th></th>\n",
       "      <th>Date</th>\n",
       "      <th>Country</th>\n",
       "      <th>Confirmed</th>\n",
       "      <th>Recovered</th>\n",
       "      <th>Deaths</th>\n",
       "    </tr>\n",
       "  </thead>\n",
       "  <tbody>\n",
       "    <tr>\n",
       "      <th>44889</th>\n",
       "      <td>2020-01-31</td>\n",
       "      <td>Italy</td>\n",
       "      <td>2</td>\n",
       "      <td>0</td>\n",
       "      <td>0</td>\n",
       "    </tr>\n",
       "    <tr>\n",
       "      <th>44890</th>\n",
       "      <td>2020-02-01</td>\n",
       "      <td>Italy</td>\n",
       "      <td>2</td>\n",
       "      <td>0</td>\n",
       "      <td>0</td>\n",
       "    </tr>\n",
       "    <tr>\n",
       "      <th>44891</th>\n",
       "      <td>2020-02-02</td>\n",
       "      <td>Italy</td>\n",
       "      <td>2</td>\n",
       "      <td>0</td>\n",
       "      <td>0</td>\n",
       "    </tr>\n",
       "    <tr>\n",
       "      <th>44892</th>\n",
       "      <td>2020-02-03</td>\n",
       "      <td>Italy</td>\n",
       "      <td>2</td>\n",
       "      <td>0</td>\n",
       "      <td>0</td>\n",
       "    </tr>\n",
       "    <tr>\n",
       "      <th>44893</th>\n",
       "      <td>2020-02-04</td>\n",
       "      <td>Italy</td>\n",
       "      <td>2</td>\n",
       "      <td>0</td>\n",
       "      <td>0</td>\n",
       "    </tr>\n",
       "    <tr>\n",
       "      <th>44894</th>\n",
       "      <td>2020-02-05</td>\n",
       "      <td>Italy</td>\n",
       "      <td>2</td>\n",
       "      <td>0</td>\n",
       "      <td>0</td>\n",
       "    </tr>\n",
       "    <tr>\n",
       "      <th>44895</th>\n",
       "      <td>2020-02-06</td>\n",
       "      <td>Italy</td>\n",
       "      <td>2</td>\n",
       "      <td>0</td>\n",
       "      <td>0</td>\n",
       "    </tr>\n",
       "    <tr>\n",
       "      <th>44896</th>\n",
       "      <td>2020-02-07</td>\n",
       "      <td>Italy</td>\n",
       "      <td>3</td>\n",
       "      <td>0</td>\n",
       "      <td>0</td>\n",
       "    </tr>\n",
       "    <tr>\n",
       "      <th>44897</th>\n",
       "      <td>2020-02-08</td>\n",
       "      <td>Italy</td>\n",
       "      <td>3</td>\n",
       "      <td>0</td>\n",
       "      <td>0</td>\n",
       "    </tr>\n",
       "    <tr>\n",
       "      <th>44898</th>\n",
       "      <td>2020-02-09</td>\n",
       "      <td>Italy</td>\n",
       "      <td>3</td>\n",
       "      <td>0</td>\n",
       "      <td>0</td>\n",
       "    </tr>\n",
       "  </tbody>\n",
       "</table>\n",
       "</div>"
      ],
      "text/plain": [
       "             Date Country  Confirmed  Recovered  Deaths\n",
       "44889  2020-01-31   Italy          2          0       0\n",
       "44890  2020-02-01   Italy          2          0       0\n",
       "44891  2020-02-02   Italy          2          0       0\n",
       "44892  2020-02-03   Italy          2          0       0\n",
       "44893  2020-02-04   Italy          2          0       0\n",
       "44894  2020-02-05   Italy          2          0       0\n",
       "44895  2020-02-06   Italy          2          0       0\n",
       "44896  2020-02-07   Italy          3          0       0\n",
       "44897  2020-02-08   Italy          3          0       0\n",
       "44898  2020-02-09   Italy          3          0       0"
      ]
     },
     "execution_count": 12,
     "metadata": {},
     "output_type": "execute_result"
    }
   ],
   "source": [
    "dfconf[dfconf.Country=='Italy'].head(10)"
   ]
  },
  {
   "cell_type": "markdown",
   "id": "8bc54762",
   "metadata": {},
   "source": [
    "#### let's see Global spread of Covid19"
   ]
  }
 ],
 "metadata": {
  "kernelspec": {
   "display_name": "Python 3.9.5 64-bit ('datasci')",
   "language": "python",
   "name": "python395jvsc74a57bd0374c551a574d850eb345e4ff917b7bb320bda2cb0b4eb2f941bf049dd72484b0"
  },
  "language_info": {
   "codemirror_mode": {
    "name": "ipython",
    "version": 3
   },
   "file_extension": ".py",
   "mimetype": "text/x-python",
   "name": "python",
   "nbconvert_exporter": "python",
   "pygments_lexer": "ipython3",
   "version": "3.9.6"
  }
 },
 "nbformat": 4,
 "nbformat_minor": 5
}
